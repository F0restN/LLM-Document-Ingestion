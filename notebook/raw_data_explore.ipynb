{
 "cells": [
  {
   "cell_type": "code",
   "execution_count": 8,
   "metadata": {},
   "outputs": [
    {
     "name": "stdout",
     "output_type": "stream",
     "text": [
      "<class 'pandas.core.frame.DataFrame'>\n",
      "Index: 2074 entries, 0 to 2193\n",
      "Data columns (total 6 columns):\n",
      " #   Column            Non-Null Count  Dtype  \n",
      "---  ------            --------------  -----  \n",
      " 0   url               2074 non-null   object \n",
      " 1   title             2074 non-null   object \n",
      " 2   question          2074 non-null   object \n",
      " 3   question_context  0 non-null      float64\n",
      " 4   answer            2074 non-null   object \n",
      " 5   tags              2074 non-null   object \n",
      "dtypes: float64(1), object(5)\n",
      "memory usage: 113.4+ KB\n"
     ]
    }
   ],
   "source": [
    "import pandas as pd\n",
    "\n",
    "# Aging care forum data\n",
    "agingcare_df = pd.read_json(\n",
    "    \"../../data/raw_content/knowledge/aging-care-forum.json\", orient=\"records\"\n",
    ")\n",
    "\n",
    "agingcare_df[\"question\"] = agingcare_df[\"question\"].astype(str)\n",
    "agingcare_df[\"answer\"] = agingcare_df[\"answer\"].astype(str)\n",
    "agingcare_df[\"tags\"] = agingcare_df[\"tags\"].astype(str).str.strip('[]')\n",
    "\n",
    "# remove duplicate entries\n",
    "agingcare_df.drop_duplicates(\n",
    "    subset=[\"answer\", \"question\"], \n",
    "    keep=\"first\", \n",
    "    inplace=True\n",
    ")\n",
    "\n",
    "# print(agingcare_df[['title','question','answer', 'tags']].head())\n",
    "agingcare_df.info()"
   ]
  },
  {
   "cell_type": "code",
   "execution_count": 7,
   "metadata": {},
   "outputs": [
    {
     "name": "stdout",
     "output_type": "stream",
     "text": [
      "<class 'pandas.core.frame.DataFrame'>\n",
      "RangeIndex: 4087 entries, 0 to 4086\n",
      "Data columns (total 4 columns):\n",
      " #   Column  Non-Null Count  Dtype \n",
      "---  ------  --------------  ----- \n",
      " 0   pk      4087 non-null   int64 \n",
      " 1   title   4087 non-null   object\n",
      " 2   source  4087 non-null   object\n",
      " 3   text    4087 non-null   object\n",
      "dtypes: int64(1), object(3)\n",
      "memory usage: 127.8+ KB\n"
     ]
    }
   ],
   "source": [
    "# Alzconnect forum data\n",
    "alzconnect_df = pd.read_parquet(\n",
    "    \"../../data/raw_content/knowledge/alz-connect-forum.parquet\"\n",
    ")\n",
    "alzconnect_df.info()"
   ]
  },
  {
   "cell_type": "code",
   "execution_count": 11,
   "metadata": {},
   "outputs": [
    {
     "name": "stdout",
     "output_type": "stream",
     "text": [
      "<class 'pandas.core.frame.DataFrame'>\n",
      "RangeIndex: 237 entries, 0 to 236\n",
      "Data columns (total 10 columns):\n",
      " #   Column                Non-Null Count  Dtype \n",
      "---  ------                --------------  ----- \n",
      " 0   url                   237 non-null    object\n",
      " 1   title                 237 non-null    object\n",
      " 2   doi                   237 non-null    object\n",
      " 3   pmid                  237 non-null    object\n",
      " 4   authors               237 non-null    object\n",
      " 5   abstract              237 non-null    object\n",
      " 6   contents              237 non-null    object\n",
      " 7   per_sections_content  237 non-null    object\n",
      " 8   published_date        237 non-null    object\n",
      " 9   reference             237 non-null    object\n",
      "dtypes: object(10)\n",
      "memory usage: 18.6+ KB\n"
     ]
    }
   ],
   "source": [
    "pubmed_central = pd.read_json(\n",
    "    \"../../data/raw_content/knowledge/pubmed-central-delirium-family-caregiving.json\", orient=\"records\"\n",
    ")\n",
    "\n",
    "pubmed_central.info()"
   ]
  },
  {
   "cell_type": "code",
   "execution_count": 14,
   "metadata": {},
   "outputs": [
    {
     "name": "stdout",
     "output_type": "stream",
     "text": [
      "Number of unique threads in the Alzconnect forum: 4087\n",
      "Number of unique threads in the Agingcare forum: 402\n",
      "Number of unique threads in the Pubmed Central: 235\n"
     ]
    }
   ],
   "source": [
    "# Count the number of unique threads in the dataset\n",
    "unique_threads = alzconnect_df['pk'].nunique()\n",
    "print(f\"Number of unique threads in the Alzconnect forum: {unique_threads}\")\n",
    "print(f\"Number of unique threads in the Agingcare forum: {agingcare_df['url'].nunique()}\")\n",
    "print(f\"Number of unique threads in the Pubmed Central: {pubmed_central['doi'].nunique()}\")\n"
   ]
  },
  {
   "cell_type": "markdown",
   "metadata": {},
   "source": []
  }
 ],
 "metadata": {
  "kernelspec": {
   "display_name": "Python 3",
   "language": "python",
   "name": "python3"
  },
  "language_info": {
   "codemirror_mode": {
    "name": "ipython",
    "version": 3
   },
   "file_extension": ".py",
   "mimetype": "text/x-python",
   "name": "python",
   "nbconvert_exporter": "python",
   "pygments_lexer": "ipython3",
   "version": "3.11.11"
  }
 },
 "nbformat": 4,
 "nbformat_minor": 2
}
